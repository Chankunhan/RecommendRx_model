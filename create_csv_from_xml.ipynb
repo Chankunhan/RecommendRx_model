{
 "cells": [
  {
   "cell_type": "code",
   "execution_count": 1,
   "metadata": {
    "collapsed": false
   },
   "outputs": [],
   "source": [
    "import xml.etree.ElementTree as ET\n",
    "import os\n",
    "import csv"
   ]
  },
  {
   "cell_type": "code",
   "execution_count": 2,
   "metadata": {
    "collapsed": false
   },
   "outputs": [],
   "source": [
    "class MyFile(object):\n",
    "    def __init__ (self, file_name):\n",
    "        tree = ET.parse('./raw_complete/{}'.format(file_name))\n",
    "        root = tree.getroot()\n",
    "        info = root._children[1]\n",
    "        self.text = root._children[0].text\n",
    "\n",
    "        self.patient_info = self.get_patient_info(info)\n",
    "        self.file_info = {'patient_id': file_name[:3], 'encounter_id': file_name[4:6]}\n",
    "\n",
    "        \n",
    "        med_list = list()\n",
    "        diagnosis_list = list()\n",
    "        for each in info._children:\n",
    "            if each.tag == 'MEDICATION':\n",
    "                med_list.append(self.get_sub_tag_info(each))\n",
    "            if each.tag not in ['MEDICATION','SMOKER', 'FAMILY_HIST', 'PHI']: #should give all diagnoses\n",
    "                diagnosis_list.append(self.get_sub_tag_info(each))\n",
    "        self.meds = med_list\n",
    "        self.diagnosis = diagnosis_list\n",
    "        \n",
    "    def clean_attribute(self, a_tag, a_key):\n",
    "        try:\n",
    "            word = a_tag.attrib[a_key]\n",
    "        except KeyError:\n",
    "            word = 'NA'\n",
    "        word = ' '.join(word.split()) #removes excessive whitespace\n",
    "        word = word.replace(',', '-') #remove commas to prepare for csv\n",
    "        if len(word) == 0:\n",
    "            word = 'NA'\n",
    "        return word\n",
    "\n",
    "    def get_sub_tag_info(self, a_tag):\n",
    "        my_list = [a_tag.tag]\n",
    "\n",
    "        for x in ['id', 'time', 'type1', 'type2']:\n",
    "            my_list.append(self.clean_attribute(a_tag, x))\n",
    "\n",
    "        child_list = list()\n",
    "        for child in a_tag._children:\n",
    "            text = self.clean_attribute(child, 'text')\n",
    "            try:\n",
    "                text = self.clean_attribute(child, 'indicator') + ': ' + text\n",
    "            except KeyError:\n",
    "                pass\n",
    "            child_list.append(text)\n",
    "\n",
    "        my_list.append(\"; \".join(set(child_list)))\n",
    "        return my_list\n",
    "\n",
    "    def get_patient_info(self, a_tag):\n",
    "        info_dict = {}\n",
    "        for each in a_tag._children:\n",
    "            if each.tag == 'PHI':\n",
    "                if each.attrib['TYPE'] not in info_dict.keys():\n",
    "                    info_dict[each.attrib['TYPE']] = each.attrib['text']\n",
    "            if each.tag == 'SMOKER':\n",
    "                if 'SMOKER' not in info_dict.keys():\n",
    "                    info_dict['SMOKER'] = each.attrib['status']\n",
    "        info_dict['SEX'] = self.determine_sex()\n",
    "        return info_dict\n",
    "    \n",
    "    def determine_sex(self):\n",
    "        text = self.text.strip().lower()\n",
    "\n",
    "        female_count = sum([text.count((\" \" + x + \" \")) for x in [\n",
    "                    'female', 'woman', 'her', 'she' 'yo f']])\n",
    "        male_count = sum([text.count((\" \" + x + \" \")) for x in [\n",
    "                    'male', 'man', 'his', 'he', 'yo m', 'gentleman']])\n",
    "        \n",
    "        if female_count > male_count:\n",
    "            return 'female'\n",
    "        elif male_count > female_count:\n",
    "            return 'male'\n",
    "        else:\n",
    "            return 'NA'\n",
    "\n",
    "    def write(self, what, where):\n",
    "        if what == 'meds':\n",
    "            the_list = self.meds\n",
    "        elif what == 'diagnosis':\n",
    "            the_list = self.diagnosis\n",
    "        else:\n",
    "            raise ValueError('\"what\" must be \"meds\" or \"diagnosis\"')\n",
    "        with open(where, 'a') as csvfile:\n",
    "            spamwriter = csv.writer(csvfile, delimiter=',',\n",
    "                                    quotechar='|', quoting=csv.QUOTE_MINIMAL)\n",
    "            leading_info = [self.file_info['patient_id'], self.file_info['encounter_id']]\n",
    "            for each in ['DATE', 'SEX', 'AGE', 'SMOKER']:\n",
    "                try:\n",
    "                    leading_info.append(self.patient_info[each])\n",
    "                except KeyError:\n",
    "                    leading_info.append('NA')\n",
    "\n",
    "            for each in the_list:\n",
    "                next_row = leading_info + each\n",
    "                spamwriter.writerow(next_row)\n"
   ]
  },
  {
   "cell_type": "code",
   "execution_count": 3,
   "metadata": {
    "collapsed": true
   },
   "outputs": [],
   "source": [
    "def restart_file(file_name):\n",
    "    with open(file_name, 'wb') as csvfile:\n",
    "        spamwriter = csv.writer(csvfile, delimiter=',',\n",
    "                                quotechar='|', quoting=csv.QUOTE_MINIMAL)\n",
    "        spamwriter.writerow(['patient_id', 'encounter_id', 'encounter_date', 'patient_sex', 'patient_age', \n",
    "                             'smoker_status', 'tag_name', 'tag_id', 'tag_time', 'tag_type1',\n",
    "                             'tag_type2', 'tag_child_text'])"
   ]
  },
  {
   "cell_type": "code",
   "execution_count": 4,
   "metadata": {
    "collapsed": false
   },
   "outputs": [],
   "source": [
    "file_name_list = list()\n",
    "for each_file in os.listdir(\"./raw_complete\"):\n",
    "    if each_file.endswith(\".xml\"):\n",
    "        file_name_list.append(each_file)"
   ]
  },
  {
   "cell_type": "code",
   "execution_count": 5,
   "metadata": {
    "collapsed": false
   },
   "outputs": [],
   "source": [
    "for each_csv in  ['meds.csv', 'diagnosis.csv']:\n",
    "    restart_file(each_csv)\n",
    "\n",
    "for file_name in file_name_list:\n",
    "    next_file = MyFile(file_name)\n",
    "    next_file.write('meds', 'meds.csv')\n",
    "    next_file.write('diagnosis', 'diagnosis.csv')"
   ]
  },
  {
   "cell_type": "code",
   "execution_count": null,
   "metadata": {
    "collapsed": true
   },
   "outputs": [],
   "source": []
  }
 ],
 "metadata": {
  "anaconda-cloud": {},
  "kernelspec": {
   "display_name": "Python [conda env:my_projects_env]",
   "language": "python",
   "name": "conda-env-my_projects_env-py"
  },
  "language_info": {
   "codemirror_mode": {
    "name": "ipython",
    "version": 2
   },
   "file_extension": ".py",
   "mimetype": "text/x-python",
   "name": "python",
   "nbconvert_exporter": "python",
   "pygments_lexer": "ipython2",
   "version": "2.7.12"
  }
 },
 "nbformat": 4,
 "nbformat_minor": 1
}
