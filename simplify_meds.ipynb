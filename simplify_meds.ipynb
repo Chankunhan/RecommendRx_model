{
 "cells": [
  {
   "cell_type": "code",
   "execution_count": 1,
   "metadata": {
    "collapsed": true
   },
   "outputs": [],
   "source": [
    "import pandas as pd"
   ]
  },
  {
   "cell_type": "code",
   "execution_count": 2,
   "metadata": {
    "collapsed": false
   },
   "outputs": [
    {
     "name": "stdout",
     "output_type": "stream",
     "text": [
      "(6198, 12)\n"
     ]
    },
    {
     "data": {
      "text/html": [
       "<div>\n",
       "<table border=\"1\" class=\"dataframe\">\n",
       "  <thead>\n",
       "    <tr style=\"text-align: right;\">\n",
       "      <th></th>\n",
       "      <th>patient_id</th>\n",
       "      <th>encounter_id</th>\n",
       "      <th>encounter_date</th>\n",
       "      <th>patient_sex</th>\n",
       "      <th>patient_age</th>\n",
       "      <th>smoker_status</th>\n",
       "      <th>tag_name</th>\n",
       "      <th>tag_id</th>\n",
       "      <th>tag_time</th>\n",
       "      <th>tag_type1</th>\n",
       "      <th>tag_type2</th>\n",
       "      <th>tag_child_text</th>\n",
       "    </tr>\n",
       "  </thead>\n",
       "  <tbody>\n",
       "    <tr>\n",
       "      <th>0</th>\n",
       "      <td>293</td>\n",
       "      <td>3</td>\n",
       "      <td>2077-07-30</td>\n",
       "      <td>female</td>\n",
       "      <td>71</td>\n",
       "      <td>current</td>\n",
       "      <td>MEDICATION</td>\n",
       "      <td>DOC0</td>\n",
       "      <td>during DCT</td>\n",
       "      <td>ACE inhibitor</td>\n",
       "      <td>NA</td>\n",
       "      <td>NA: ZESTRIL</td>\n",
       "    </tr>\n",
       "    <tr>\n",
       "      <th>1</th>\n",
       "      <td>293</td>\n",
       "      <td>3</td>\n",
       "      <td>2077-07-30</td>\n",
       "      <td>female</td>\n",
       "      <td>71</td>\n",
       "      <td>current</td>\n",
       "      <td>MEDICATION</td>\n",
       "      <td>DOC1</td>\n",
       "      <td>after DCT</td>\n",
       "      <td>statin</td>\n",
       "      <td>NA</td>\n",
       "      <td>NA: ZOCOR</td>\n",
       "    </tr>\n",
       "    <tr>\n",
       "      <th>2</th>\n",
       "      <td>293</td>\n",
       "      <td>3</td>\n",
       "      <td>2077-07-30</td>\n",
       "      <td>female</td>\n",
       "      <td>71</td>\n",
       "      <td>current</td>\n",
       "      <td>MEDICATION</td>\n",
       "      <td>DOC2</td>\n",
       "      <td>during DCT</td>\n",
       "      <td>aspirin</td>\n",
       "      <td>NA</td>\n",
       "      <td>NA: ASPIRIN; NA: ECASA</td>\n",
       "    </tr>\n",
       "    <tr>\n",
       "      <th>3</th>\n",
       "      <td>293</td>\n",
       "      <td>3</td>\n",
       "      <td>2077-07-30</td>\n",
       "      <td>female</td>\n",
       "      <td>71</td>\n",
       "      <td>current</td>\n",
       "      <td>MEDICATION</td>\n",
       "      <td>DOC6</td>\n",
       "      <td>after DCT</td>\n",
       "      <td>ACE inhibitor</td>\n",
       "      <td>NA</td>\n",
       "      <td>NA: ZESTRIL</td>\n",
       "    </tr>\n",
       "    <tr>\n",
       "      <th>4</th>\n",
       "      <td>293</td>\n",
       "      <td>3</td>\n",
       "      <td>2077-07-30</td>\n",
       "      <td>female</td>\n",
       "      <td>71</td>\n",
       "      <td>current</td>\n",
       "      <td>MEDICATION</td>\n",
       "      <td>DOC8</td>\n",
       "      <td>after DCT</td>\n",
       "      <td>aspirin</td>\n",
       "      <td>NA</td>\n",
       "      <td>NA: ASPIRIN; NA: ECASA</td>\n",
       "    </tr>\n",
       "  </tbody>\n",
       "</table>\n",
       "</div>"
      ],
      "text/plain": [
       "   patient_id  encounter_id encounter_date patient_sex patient_age  \\\n",
       "0         293             3     2077-07-30      female          71   \n",
       "1         293             3     2077-07-30      female          71   \n",
       "2         293             3     2077-07-30      female          71   \n",
       "3         293             3     2077-07-30      female          71   \n",
       "4         293             3     2077-07-30      female          71   \n",
       "\n",
       "  smoker_status    tag_name tag_id    tag_time      tag_type1 tag_type2  \\\n",
       "0       current  MEDICATION   DOC0  during DCT  ACE inhibitor        NA   \n",
       "1       current  MEDICATION   DOC1   after DCT         statin        NA   \n",
       "2       current  MEDICATION   DOC2  during DCT        aspirin        NA   \n",
       "3       current  MEDICATION   DOC6   after DCT  ACE inhibitor        NA   \n",
       "4       current  MEDICATION   DOC8   after DCT        aspirin        NA   \n",
       "\n",
       "           tag_child_text  \n",
       "0             NA: ZESTRIL  \n",
       "1               NA: ZOCOR  \n",
       "2  NA: ASPIRIN; NA: ECASA  \n",
       "3             NA: ZESTRIL  \n",
       "4  NA: ASPIRIN; NA: ECASA  "
      ]
     },
     "execution_count": 2,
     "metadata": {},
     "output_type": "execute_result"
    }
   ],
   "source": [
    "df = pd.read_csv('meds.csv', keep_default_na=False)\n",
    "print(df.shape)\n",
    "df.head()"
   ]
  },
  {
   "cell_type": "code",
   "execution_count": 3,
   "metadata": {
    "collapsed": false
   },
   "outputs": [
    {
     "name": "stdout",
     "output_type": "stream",
     "text": [
      "(6223, 12)\n"
     ]
    }
   ],
   "source": [
    "for row in xrange(df.shape[0]):\n",
    "    if df.loc[row, 'tag_type2'] != 'NA':\n",
    "        this = df.loc[row, ]\n",
    "        this['tag_type1'] = this['tag_type2']\n",
    "        df = df.append(this)\n",
    "print(df.shape)"
   ]
  },
  {
   "cell_type": "code",
   "execution_count": 4,
   "metadata": {
    "collapsed": false
   },
   "outputs": [
    {
     "name": "stdout",
     "output_type": "stream",
     "text": [
      "(2199, 7)\n"
     ]
    },
    {
     "data": {
      "text/html": [
       "<div>\n",
       "<table border=\"1\" class=\"dataframe\">\n",
       "  <thead>\n",
       "    <tr style=\"text-align: right;\">\n",
       "      <th></th>\n",
       "      <th>patient_id</th>\n",
       "      <th>encounter_id</th>\n",
       "      <th>encounter_date</th>\n",
       "      <th>patient_sex</th>\n",
       "      <th>patient_age</th>\n",
       "      <th>smoker_status</th>\n",
       "      <th>tag_type1</th>\n",
       "    </tr>\n",
       "  </thead>\n",
       "  <tbody>\n",
       "    <tr>\n",
       "      <th>0</th>\n",
       "      <td>293</td>\n",
       "      <td>3</td>\n",
       "      <td>2077-07-30</td>\n",
       "      <td>female</td>\n",
       "      <td>71</td>\n",
       "      <td>current</td>\n",
       "      <td>ACE inhibitor</td>\n",
       "    </tr>\n",
       "    <tr>\n",
       "      <th>1</th>\n",
       "      <td>293</td>\n",
       "      <td>3</td>\n",
       "      <td>2077-07-30</td>\n",
       "      <td>female</td>\n",
       "      <td>71</td>\n",
       "      <td>current</td>\n",
       "      <td>statin</td>\n",
       "    </tr>\n",
       "    <tr>\n",
       "      <th>2</th>\n",
       "      <td>293</td>\n",
       "      <td>3</td>\n",
       "      <td>2077-07-30</td>\n",
       "      <td>female</td>\n",
       "      <td>71</td>\n",
       "      <td>current</td>\n",
       "      <td>aspirin</td>\n",
       "    </tr>\n",
       "    <tr>\n",
       "      <th>5</th>\n",
       "      <td>293</td>\n",
       "      <td>3</td>\n",
       "      <td>2077-07-30</td>\n",
       "      <td>female</td>\n",
       "      <td>71</td>\n",
       "      <td>current</td>\n",
       "      <td>sulfonylureas</td>\n",
       "    </tr>\n",
       "    <tr>\n",
       "      <th>7</th>\n",
       "      <td>293</td>\n",
       "      <td>3</td>\n",
       "      <td>2077-07-30</td>\n",
       "      <td>female</td>\n",
       "      <td>71</td>\n",
       "      <td>current</td>\n",
       "      <td>beta blocker</td>\n",
       "    </tr>\n",
       "  </tbody>\n",
       "</table>\n",
       "</div>"
      ],
      "text/plain": [
       "   patient_id  encounter_id encounter_date patient_sex patient_age  \\\n",
       "0         293             3     2077-07-30      female          71   \n",
       "1         293             3     2077-07-30      female          71   \n",
       "2         293             3     2077-07-30      female          71   \n",
       "5         293             3     2077-07-30      female          71   \n",
       "7         293             3     2077-07-30      female          71   \n",
       "\n",
       "  smoker_status      tag_type1  \n",
       "0       current  ACE inhibitor  \n",
       "1       current         statin  \n",
       "2       current        aspirin  \n",
       "5       current  sulfonylureas  \n",
       "7       current   beta blocker  "
      ]
     },
     "execution_count": 4,
     "metadata": {},
     "output_type": "execute_result"
    }
   ],
   "source": [
    "df = df.drop(['tag_id', 'tag_time', 'tag_type2', 'tag_child_text', 'tag_name'], 1)\n",
    "\n",
    "df = df.drop_duplicates()\n",
    "print(df.shape)\n",
    "df.head()"
   ]
  },
  {
   "cell_type": "code",
   "execution_count": 5,
   "metadata": {
    "collapsed": false
   },
   "outputs": [
    {
     "name": "stdout",
     "output_type": "stream",
     "text": [
      "{'niacin': None, 'DPP4 inhibitors': None, 'thienopyridine': None, 'sulfonylureas': None, 'thiazolidinedione': None, 'beta blocker': None, 'ezetimibe': None, 'aspirin': None, 'ARB': None, 'insulin': None, 'nitrate': None, 'statin': None, 'calcium channel blocker': None, 'ACE inhibitor': None, 'metformin': None, 'fibrate': None, 'diuretic': None}\n"
     ]
    }
   ],
   "source": [
    "drug_dict = {key:None for key in list(set(df.tag_type1))}\n",
    "print(drug_dict)"
   ]
  },
  {
   "cell_type": "code",
   "execution_count": 6,
   "metadata": {
    "collapsed": false
   },
   "outputs": [],
   "source": [
    "drug_dict['niacin'] = 'HYPERLIPIDEMIA'\n",
    "drug_dict['ARB'] = 'HYPERTENSION'\n",
    "drug_dict['diuretic'] = 'HYPERTENSION'\n",
    "drug_dict['thienopyridine'] = 'CAD'\n",
    "drug_dict['aspirin'] = 'CAD'\n",
    "drug_dict['sulfonylureas'] = 'DIABETES'\n",
    "drug_dict['thiazolidinedione'] = 'DIABETES'\n",
    "drug_dict['beta blocker'] = 'HYPERTENSION' # also CAD\n",
    "drug_dict['DPP4 inhibitors'] = 'DIABETES'\n",
    "drug_dict['ezetimibe'] = 'HYPERLIPIDEMIA'\n",
    "drug_dict['calcium channel blocker'] = 'HYPERTENSION'\n",
    "drug_dict['ACE inhibitor'] = 'HYPERTENSION'\n",
    "drug_dict['insulin'] = 'DIABETES'\n",
    "drug_dict['nitrate'] = 'HYPERTENSION'  # mostly emergency use\n",
    "drug_dict['statin'] = 'CAD'\n",
    "drug_dict['metformin'] = 'DIABETES'\n",
    "drug_dict['fibrate'] = 'HYPERLIPIDEMIA'"
   ]
  },
  {
   "cell_type": "code",
   "execution_count": 7,
   "metadata": {
    "collapsed": false
   },
   "outputs": [
    {
     "name": "stdout",
     "output_type": "stream",
     "text": [
      "{'HYPERLIPIDEMIA': ['niacin', 'ezetimibe', 'fibrate'], 'CAD': ['thienopyridine', 'aspirin', 'statin'], 'HYPERTENSION': ['beta blocker', 'ARB', 'nitrate', 'calcium channel blocker', 'ACE inhibitor', 'diuretic'], 'DIABETES': ['DPP4 inhibitors', 'sulfonylureas', 'thiazolidinedione', 'insulin', 'metformin']}\n"
     ]
    }
   ],
   "source": [
    "condition_dict ={}\n",
    "\n",
    "for key, value in drug_dict.items():\n",
    "    if value not in condition_dict.keys():\n",
    "        condition_dict[value] = [key]\n",
    "    else:\n",
    "        condition_dict[value] = condition_dict[value] + [key]\n",
    "        \n",
    "print(condition_dict)"
   ]
  },
  {
   "cell_type": "code",
   "execution_count": 8,
   "metadata": {
    "collapsed": false
   },
   "outputs": [
    {
     "data": {
      "text/html": [
       "<div>\n",
       "<table border=\"1\" class=\"dataframe\">\n",
       "  <thead>\n",
       "    <tr style=\"text-align: right;\">\n",
       "      <th></th>\n",
       "      <th>patient_id</th>\n",
       "      <th>encounter_id</th>\n",
       "      <th>encounter_date</th>\n",
       "      <th>patient_sex</th>\n",
       "      <th>patient_age</th>\n",
       "      <th>smoker_status</th>\n",
       "      <th>condition</th>\n",
       "      <th>condition_medication</th>\n",
       "    </tr>\n",
       "  </thead>\n",
       "  <tbody>\n",
       "    <tr>\n",
       "      <th>0</th>\n",
       "      <td>293</td>\n",
       "      <td>3</td>\n",
       "      <td>2077-07-30</td>\n",
       "      <td>female</td>\n",
       "      <td>71</td>\n",
       "      <td>current</td>\n",
       "      <td>HYPERTENSION</td>\n",
       "      <td>ACE inhibitor</td>\n",
       "    </tr>\n",
       "    <tr>\n",
       "      <th>1</th>\n",
       "      <td>293</td>\n",
       "      <td>3</td>\n",
       "      <td>2077-07-30</td>\n",
       "      <td>female</td>\n",
       "      <td>71</td>\n",
       "      <td>current</td>\n",
       "      <td>CAD</td>\n",
       "      <td>statin</td>\n",
       "    </tr>\n",
       "    <tr>\n",
       "      <th>2</th>\n",
       "      <td>293</td>\n",
       "      <td>3</td>\n",
       "      <td>2077-07-30</td>\n",
       "      <td>female</td>\n",
       "      <td>71</td>\n",
       "      <td>current</td>\n",
       "      <td>CAD</td>\n",
       "      <td>aspirin</td>\n",
       "    </tr>\n",
       "    <tr>\n",
       "      <th>5</th>\n",
       "      <td>293</td>\n",
       "      <td>3</td>\n",
       "      <td>2077-07-30</td>\n",
       "      <td>female</td>\n",
       "      <td>71</td>\n",
       "      <td>current</td>\n",
       "      <td>DIABETES</td>\n",
       "      <td>sulfonylureas</td>\n",
       "    </tr>\n",
       "    <tr>\n",
       "      <th>7</th>\n",
       "      <td>293</td>\n",
       "      <td>3</td>\n",
       "      <td>2077-07-30</td>\n",
       "      <td>female</td>\n",
       "      <td>71</td>\n",
       "      <td>current</td>\n",
       "      <td>HYPERTENSION</td>\n",
       "      <td>beta blocker</td>\n",
       "    </tr>\n",
       "  </tbody>\n",
       "</table>\n",
       "</div>"
      ],
      "text/plain": [
       "   patient_id  encounter_id encounter_date patient_sex patient_age  \\\n",
       "0         293             3     2077-07-30      female          71   \n",
       "1         293             3     2077-07-30      female          71   \n",
       "2         293             3     2077-07-30      female          71   \n",
       "5         293             3     2077-07-30      female          71   \n",
       "7         293             3     2077-07-30      female          71   \n",
       "\n",
       "  smoker_status     condition condition_medication  \n",
       "0       current  HYPERTENSION        ACE inhibitor  \n",
       "1       current           CAD               statin  \n",
       "2       current           CAD              aspirin  \n",
       "5       current      DIABETES        sulfonylureas  \n",
       "7       current  HYPERTENSION         beta blocker  "
      ]
     },
     "execution_count": 8,
     "metadata": {},
     "output_type": "execute_result"
    }
   ],
   "source": [
    "df['condition'] = [drug_dict[x] for x in df.tag_type1]\n",
    "\n",
    "df['condition_medication'] = df['tag_type1']\n",
    "df = df.drop('tag_type1', 1)\n",
    "\n",
    "df.head()"
   ]
  },
  {
   "cell_type": "code",
   "execution_count": 9,
   "metadata": {
    "collapsed": false
   },
   "outputs": [
    {
     "data": {
      "text/html": [
       "<div>\n",
       "<table border=\"1\" class=\"dataframe\">\n",
       "  <thead>\n",
       "    <tr style=\"text-align: right;\">\n",
       "      <th></th>\n",
       "      <th>patient_id</th>\n",
       "      <th>encounter_id</th>\n",
       "      <th>encounter_date</th>\n",
       "      <th>patient_sex</th>\n",
       "      <th>patient_age</th>\n",
       "      <th>smoker_status</th>\n",
       "      <th>condition</th>\n",
       "      <th>condition_medication</th>\n",
       "    </tr>\n",
       "  </thead>\n",
       "  <tbody>\n",
       "    <tr>\n",
       "      <th>1</th>\n",
       "      <td>220</td>\n",
       "      <td>1</td>\n",
       "      <td>2067-05-03</td>\n",
       "      <td>female</td>\n",
       "      <td>55</td>\n",
       "      <td>past</td>\n",
       "      <td>HYPERTENSION</td>\n",
       "      <td>nitrate; beta blocker; calcium channel blocker...</td>\n",
       "    </tr>\n",
       "    <tr>\n",
       "      <th>2</th>\n",
       "      <td>220</td>\n",
       "      <td>1</td>\n",
       "      <td>2067-05-03</td>\n",
       "      <td>female</td>\n",
       "      <td>55</td>\n",
       "      <td>past</td>\n",
       "      <td>CAD</td>\n",
       "      <td>statin; thienopyridine; aspirin</td>\n",
       "    </tr>\n",
       "    <tr>\n",
       "      <th>3</th>\n",
       "      <td>220</td>\n",
       "      <td>2</td>\n",
       "      <td>2068-12-05</td>\n",
       "      <td>female</td>\n",
       "      <td>37</td>\n",
       "      <td>past</td>\n",
       "      <td>HYPERTENSION</td>\n",
       "      <td>nitrate; beta blocker; calcium channel blocker...</td>\n",
       "    </tr>\n",
       "    <tr>\n",
       "      <th>4</th>\n",
       "      <td>220</td>\n",
       "      <td>2</td>\n",
       "      <td>2068-12-05</td>\n",
       "      <td>female</td>\n",
       "      <td>37</td>\n",
       "      <td>past</td>\n",
       "      <td>CAD</td>\n",
       "      <td>statin; thienopyridine; aspirin</td>\n",
       "    </tr>\n",
       "    <tr>\n",
       "      <th>5</th>\n",
       "      <td>220</td>\n",
       "      <td>3</td>\n",
       "      <td>2070-12-01</td>\n",
       "      <td>NA</td>\n",
       "      <td>37</td>\n",
       "      <td>past</td>\n",
       "      <td>HYPERTENSION</td>\n",
       "      <td>nitrate; beta blocker; calcium channel blocker...</td>\n",
       "    </tr>\n",
       "  </tbody>\n",
       "</table>\n",
       "</div>"
      ],
      "text/plain": [
       "  patient_id encounter_id encounter_date patient_sex patient_age  \\\n",
       "1        220            1     2067-05-03      female          55   \n",
       "2        220            1     2067-05-03      female          55   \n",
       "3        220            2     2068-12-05      female          37   \n",
       "4        220            2     2068-12-05      female          37   \n",
       "5        220            3     2070-12-01          NA          37   \n",
       "\n",
       "  smoker_status     condition  \\\n",
       "1          past  HYPERTENSION   \n",
       "2          past           CAD   \n",
       "3          past  HYPERTENSION   \n",
       "4          past           CAD   \n",
       "5          past  HYPERTENSION   \n",
       "\n",
       "                                condition_medication  \n",
       "1  nitrate; beta blocker; calcium channel blocker...  \n",
       "2                    statin; thienopyridine; aspirin  \n",
       "3  nitrate; beta blocker; calcium channel blocker...  \n",
       "4                    statin; thienopyridine; aspirin  \n",
       "5  nitrate; beta blocker; calcium channel blocker...  "
      ]
     },
     "execution_count": 9,
     "metadata": {},
     "output_type": "execute_result"
    }
   ],
   "source": [
    "new_df = pd.DataFrame(columns=list(df))\n",
    "\n",
    "next_row = 0\n",
    "for next_patient in list(set(df.patient_id)):\n",
    "    patient_df = df[df.patient_id == next_patient]\n",
    "    for next_encounter in list(set(patient_df.encounter_id)):\n",
    "        encounter_df = patient_df[patient_df.encounter_id == next_encounter]       \n",
    "        for next_condition in list(set(encounter_df.condition)):\n",
    "            this_group = encounter_df[encounter_df.condition == next_condition]\n",
    "            \n",
    "            next_row += 1\n",
    "            for col in list(new_df):\n",
    "                new_df.loc[next_row, col] = \"; \".join([str(x) for x in set(this_group[col])])\n",
    "    \n",
    "new_df.head()"
   ]
  },
  {
   "cell_type": "code",
   "execution_count": 10,
   "metadata": {
    "collapsed": false
   },
   "outputs": [],
   "source": [
    "new_df.to_csv('meds_simplified.csv', index_label=False)"
   ]
  },
  {
   "cell_type": "code",
   "execution_count": null,
   "metadata": {
    "collapsed": false
   },
   "outputs": [],
   "source": []
  }
 ],
 "metadata": {
  "anaconda-cloud": {},
  "kernelspec": {
   "display_name": "Python [conda env:my_projects_env]",
   "language": "python",
   "name": "conda-env-my_projects_env-py"
  },
  "language_info": {
   "codemirror_mode": {
    "name": "ipython",
    "version": 2
   },
   "file_extension": ".py",
   "mimetype": "text/x-python",
   "name": "python",
   "nbconvert_exporter": "python",
   "pygments_lexer": "ipython2",
   "version": "2.7.12"
  }
 },
 "nbformat": 4,
 "nbformat_minor": 1
}
